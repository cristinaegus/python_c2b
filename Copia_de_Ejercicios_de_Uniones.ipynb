{
  "cells": [
    {
      "cell_type": "markdown",
      "metadata": {
        "id": "view-in-github",
        "colab_type": "text"
      },
      "source": [
        "<a href=\"https://colab.research.google.com/github/cristinaegus/python_c2b/blob/main/Copia_de_Ejercicios_de_Uniones.ipynb\" target=\"_parent\"><img src=\"https://colab.research.google.com/assets/colab-badge.svg\" alt=\"Open In Colab\"/></a>"
      ]
    },
    {
      "cell_type": "markdown",
      "metadata": {
        "id": "EOlxCfFAmIqq"
      },
      "source": [
        "## Unión de Tablas de Datos Meteorológicos\n",
        "\n",
        "Tienes el excel EstaciónMeteo.xlsx con datos horarios de una estación meteorológica que contienen información sobre temperatura, humedad y presión atmosférica. Las tres tablas tienen las mismas columnas, excepto la segunda tabla, que no contiene datos de presión atmosférica. Une las tres tablas verticalmente."
      ]
    },
    {
      "cell_type": "code",
      "execution_count": null,
      "metadata": {
        "id": "q-pJIFb-mGjE"
      },
      "outputs": [],
      "source": [
        "import pandas as pd"
      ]
    },
    {
      "cell_type": "markdown",
      "source": [
        "Cargamos los datos del Excel [Documentación Pandas read_excel](https://pandas.pydata.org/docs/reference/api/pandas.read_excel.html)"
      ],
      "metadata": {
        "id": "5R4cZdHhFGvg"
      }
    },
    {
      "cell_type": "code",
      "metadata": {
        "id": "JONBDM_dOfgc"
      },
      "source": [
        "import pandas as pd\n",
        "\n",
        "archivo = \"/content/sample_data/EstaciónMeteo.xlsx\"\n",
        "lunes = pd.read_excel(archivo, sheet_name='Lunes')\n",
        "martes = pd.read_excel(archivo, sheet_name='Martes')\n",
        "miercoles = pd.read_excel(archivo, sheet_name='Miércoles')\n",
        "\n",
        "# Combine 'Hora' with a dummy date to create a datetime index for each day\n",
        "lunes['Fecha y Hora'] = pd.to_datetime('2023-01-01 ' + lunes['Hora'].astype(str))\n",
        "martes['Fecha y Hora'] = pd.to_datetime('2023-01-02 ' + martes['Hora'].astype(str))\n",
        "miercoles['Fecha y Hora'] = pd.to_datetime('2023-01-03 ' + miercoles['Hora'].astype(str))\n",
        "\n",
        "# Set the datetime index\n",
        "lunes = lunes.set_index('Fecha y Hora')\n",
        "martes = martes.set_index('Fecha y Hora')\n",
        "miercoles = miercoles.set_index('Fecha y Hora')\n",
        "\n",
        "# Drop the original 'Hora' column\n",
        "lunes = lunes.drop('Hora', axis=1)\n",
        "martes = martes.drop('Hora', axis=1)\n",
        "miercoles = miercoles.drop('Hora', axis=1)"
      ],
      "execution_count": 8,
      "outputs": []
    },
    {
      "cell_type": "code",
      "source": [
        "lunes.head()"
      ],
      "metadata": {
        "colab": {
          "base_uri": "https://localhost:8080/",
          "height": 206
        },
        "id": "FhB3A0M4hfbe",
        "outputId": "c1bf876f-5902-4241-cf16-22a79967aabc"
      },
      "execution_count": null,
      "outputs": [
        {
          "output_type": "execute_result",
          "data": {
            "text/plain": [
              "    Hora  Temperatura (°C)  Humedad (%)  Presión (hPa)\n",
              "0  00:00              10.5           65         1013.2\n",
              "1  01:00               9.8           68         1012.8\n",
              "2  02:00               9.2           70         1012.5\n",
              "3  03:00               8.7           72         1012.3\n",
              "4  04:00               8.3           74         1012.1"
            ],
            "text/html": [
              "\n",
              "  <div id=\"df-7cd30a38-7379-4c82-ae07-2d750fdb18d9\" class=\"colab-df-container\">\n",
              "    <div>\n",
              "<style scoped>\n",
              "    .dataframe tbody tr th:only-of-type {\n",
              "        vertical-align: middle;\n",
              "    }\n",
              "\n",
              "    .dataframe tbody tr th {\n",
              "        vertical-align: top;\n",
              "    }\n",
              "\n",
              "    .dataframe thead th {\n",
              "        text-align: right;\n",
              "    }\n",
              "</style>\n",
              "<table border=\"1\" class=\"dataframe\">\n",
              "  <thead>\n",
              "    <tr style=\"text-align: right;\">\n",
              "      <th></th>\n",
              "      <th>Hora</th>\n",
              "      <th>Temperatura (°C)</th>\n",
              "      <th>Humedad (%)</th>\n",
              "      <th>Presión (hPa)</th>\n",
              "    </tr>\n",
              "  </thead>\n",
              "  <tbody>\n",
              "    <tr>\n",
              "      <th>0</th>\n",
              "      <td>00:00</td>\n",
              "      <td>10.5</td>\n",
              "      <td>65</td>\n",
              "      <td>1013.2</td>\n",
              "    </tr>\n",
              "    <tr>\n",
              "      <th>1</th>\n",
              "      <td>01:00</td>\n",
              "      <td>9.8</td>\n",
              "      <td>68</td>\n",
              "      <td>1012.8</td>\n",
              "    </tr>\n",
              "    <tr>\n",
              "      <th>2</th>\n",
              "      <td>02:00</td>\n",
              "      <td>9.2</td>\n",
              "      <td>70</td>\n",
              "      <td>1012.5</td>\n",
              "    </tr>\n",
              "    <tr>\n",
              "      <th>3</th>\n",
              "      <td>03:00</td>\n",
              "      <td>8.7</td>\n",
              "      <td>72</td>\n",
              "      <td>1012.3</td>\n",
              "    </tr>\n",
              "    <tr>\n",
              "      <th>4</th>\n",
              "      <td>04:00</td>\n",
              "      <td>8.3</td>\n",
              "      <td>74</td>\n",
              "      <td>1012.1</td>\n",
              "    </tr>\n",
              "  </tbody>\n",
              "</table>\n",
              "</div>\n",
              "    <div class=\"colab-df-buttons\">\n",
              "\n",
              "  <div class=\"colab-df-container\">\n",
              "    <button class=\"colab-df-convert\" onclick=\"convertToInteractive('df-7cd30a38-7379-4c82-ae07-2d750fdb18d9')\"\n",
              "            title=\"Convert this dataframe to an interactive table.\"\n",
              "            style=\"display:none;\">\n",
              "\n",
              "  <svg xmlns=\"http://www.w3.org/2000/svg\" height=\"24px\" viewBox=\"0 -960 960 960\">\n",
              "    <path d=\"M120-120v-720h720v720H120Zm60-500h600v-160H180v160Zm220 220h160v-160H400v160Zm0 220h160v-160H400v160ZM180-400h160v-160H180v160Zm440 0h160v-160H620v160ZM180-180h160v-160H180v160Zm440 0h160v-160H620v160Z\"/>\n",
              "  </svg>\n",
              "    </button>\n",
              "\n",
              "  <style>\n",
              "    .colab-df-container {\n",
              "      display:flex;\n",
              "      gap: 12px;\n",
              "    }\n",
              "\n",
              "    .colab-df-convert {\n",
              "      background-color: #E8F0FE;\n",
              "      border: none;\n",
              "      border-radius: 50%;\n",
              "      cursor: pointer;\n",
              "      display: none;\n",
              "      fill: #1967D2;\n",
              "      height: 32px;\n",
              "      padding: 0 0 0 0;\n",
              "      width: 32px;\n",
              "    }\n",
              "\n",
              "    .colab-df-convert:hover {\n",
              "      background-color: #E2EBFA;\n",
              "      box-shadow: 0px 1px 2px rgba(60, 64, 67, 0.3), 0px 1px 3px 1px rgba(60, 64, 67, 0.15);\n",
              "      fill: #174EA6;\n",
              "    }\n",
              "\n",
              "    .colab-df-buttons div {\n",
              "      margin-bottom: 4px;\n",
              "    }\n",
              "\n",
              "    [theme=dark] .colab-df-convert {\n",
              "      background-color: #3B4455;\n",
              "      fill: #D2E3FC;\n",
              "    }\n",
              "\n",
              "    [theme=dark] .colab-df-convert:hover {\n",
              "      background-color: #434B5C;\n",
              "      box-shadow: 0px 1px 3px 1px rgba(0, 0, 0, 0.15);\n",
              "      filter: drop-shadow(0px 1px 2px rgba(0, 0, 0, 0.3));\n",
              "      fill: #FFFFFF;\n",
              "    }\n",
              "  </style>\n",
              "\n",
              "    <script>\n",
              "      const buttonEl =\n",
              "        document.querySelector('#df-7cd30a38-7379-4c82-ae07-2d750fdb18d9 button.colab-df-convert');\n",
              "      buttonEl.style.display =\n",
              "        google.colab.kernel.accessAllowed ? 'block' : 'none';\n",
              "\n",
              "      async function convertToInteractive(key) {\n",
              "        const element = document.querySelector('#df-7cd30a38-7379-4c82-ae07-2d750fdb18d9');\n",
              "        const dataTable =\n",
              "          await google.colab.kernel.invokeFunction('convertToInteractive',\n",
              "                                                    [key], {});\n",
              "        if (!dataTable) return;\n",
              "\n",
              "        const docLinkHtml = 'Like what you see? Visit the ' +\n",
              "          '<a target=\"_blank\" href=https://colab.research.google.com/notebooks/data_table.ipynb>data table notebook</a>'\n",
              "          + ' to learn more about interactive tables.';\n",
              "        element.innerHTML = '';\n",
              "        dataTable['output_type'] = 'display_data';\n",
              "        await google.colab.output.renderOutput(dataTable, element);\n",
              "        const docLink = document.createElement('div');\n",
              "        docLink.innerHTML = docLinkHtml;\n",
              "        element.appendChild(docLink);\n",
              "      }\n",
              "    </script>\n",
              "  </div>\n",
              "\n",
              "\n",
              "<div id=\"df-b7fa226f-269b-48ed-9647-6d486d5cbd5d\">\n",
              "  <button class=\"colab-df-quickchart\" onclick=\"quickchart('df-b7fa226f-269b-48ed-9647-6d486d5cbd5d')\"\n",
              "            title=\"Suggest charts\"\n",
              "            style=\"display:none;\">\n",
              "\n",
              "<svg xmlns=\"http://www.w3.org/2000/svg\" height=\"24px\"viewBox=\"0 0 24 24\"\n",
              "     width=\"24px\">\n",
              "    <g>\n",
              "        <path d=\"M19 3H5c-1.1 0-2 .9-2 2v14c0 1.1.9 2 2 2h14c1.1 0 2-.9 2-2V5c0-1.1-.9-2-2-2zM9 17H7v-7h2v7zm4 0h-2V7h2v10zm4 0h-2v-4h2v4z\"/>\n",
              "    </g>\n",
              "</svg>\n",
              "  </button>\n",
              "\n",
              "<style>\n",
              "  .colab-df-quickchart {\n",
              "      --bg-color: #E8F0FE;\n",
              "      --fill-color: #1967D2;\n",
              "      --hover-bg-color: #E2EBFA;\n",
              "      --hover-fill-color: #174EA6;\n",
              "      --disabled-fill-color: #AAA;\n",
              "      --disabled-bg-color: #DDD;\n",
              "  }\n",
              "\n",
              "  [theme=dark] .colab-df-quickchart {\n",
              "      --bg-color: #3B4455;\n",
              "      --fill-color: #D2E3FC;\n",
              "      --hover-bg-color: #434B5C;\n",
              "      --hover-fill-color: #FFFFFF;\n",
              "      --disabled-bg-color: #3B4455;\n",
              "      --disabled-fill-color: #666;\n",
              "  }\n",
              "\n",
              "  .colab-df-quickchart {\n",
              "    background-color: var(--bg-color);\n",
              "    border: none;\n",
              "    border-radius: 50%;\n",
              "    cursor: pointer;\n",
              "    display: none;\n",
              "    fill: var(--fill-color);\n",
              "    height: 32px;\n",
              "    padding: 0;\n",
              "    width: 32px;\n",
              "  }\n",
              "\n",
              "  .colab-df-quickchart:hover {\n",
              "    background-color: var(--hover-bg-color);\n",
              "    box-shadow: 0 1px 2px rgba(60, 64, 67, 0.3), 0 1px 3px 1px rgba(60, 64, 67, 0.15);\n",
              "    fill: var(--button-hover-fill-color);\n",
              "  }\n",
              "\n",
              "  .colab-df-quickchart-complete:disabled,\n",
              "  .colab-df-quickchart-complete:disabled:hover {\n",
              "    background-color: var(--disabled-bg-color);\n",
              "    fill: var(--disabled-fill-color);\n",
              "    box-shadow: none;\n",
              "  }\n",
              "\n",
              "  .colab-df-spinner {\n",
              "    border: 2px solid var(--fill-color);\n",
              "    border-color: transparent;\n",
              "    border-bottom-color: var(--fill-color);\n",
              "    animation:\n",
              "      spin 1s steps(1) infinite;\n",
              "  }\n",
              "\n",
              "  @keyframes spin {\n",
              "    0% {\n",
              "      border-color: transparent;\n",
              "      border-bottom-color: var(--fill-color);\n",
              "      border-left-color: var(--fill-color);\n",
              "    }\n",
              "    20% {\n",
              "      border-color: transparent;\n",
              "      border-left-color: var(--fill-color);\n",
              "      border-top-color: var(--fill-color);\n",
              "    }\n",
              "    30% {\n",
              "      border-color: transparent;\n",
              "      border-left-color: var(--fill-color);\n",
              "      border-top-color: var(--fill-color);\n",
              "      border-right-color: var(--fill-color);\n",
              "    }\n",
              "    40% {\n",
              "      border-color: transparent;\n",
              "      border-right-color: var(--fill-color);\n",
              "      border-top-color: var(--fill-color);\n",
              "    }\n",
              "    60% {\n",
              "      border-color: transparent;\n",
              "      border-right-color: var(--fill-color);\n",
              "    }\n",
              "    80% {\n",
              "      border-color: transparent;\n",
              "      border-right-color: var(--fill-color);\n",
              "      border-bottom-color: var(--fill-color);\n",
              "    }\n",
              "    90% {\n",
              "      border-color: transparent;\n",
              "      border-bottom-color: var(--fill-color);\n",
              "    }\n",
              "  }\n",
              "</style>\n",
              "\n",
              "  <script>\n",
              "    async function quickchart(key) {\n",
              "      const quickchartButtonEl =\n",
              "        document.querySelector('#' + key + ' button');\n",
              "      quickchartButtonEl.disabled = true;  // To prevent multiple clicks.\n",
              "      quickchartButtonEl.classList.add('colab-df-spinner');\n",
              "      try {\n",
              "        const charts = await google.colab.kernel.invokeFunction(\n",
              "            'suggestCharts', [key], {});\n",
              "      } catch (error) {\n",
              "        console.error('Error during call to suggestCharts:', error);\n",
              "      }\n",
              "      quickchartButtonEl.classList.remove('colab-df-spinner');\n",
              "      quickchartButtonEl.classList.add('colab-df-quickchart-complete');\n",
              "    }\n",
              "    (() => {\n",
              "      let quickchartButtonEl =\n",
              "        document.querySelector('#df-b7fa226f-269b-48ed-9647-6d486d5cbd5d button');\n",
              "      quickchartButtonEl.style.display =\n",
              "        google.colab.kernel.accessAllowed ? 'block' : 'none';\n",
              "    })();\n",
              "  </script>\n",
              "</div>\n",
              "\n",
              "    </div>\n",
              "  </div>\n"
            ],
            "application/vnd.google.colaboratory.intrinsic+json": {
              "type": "dataframe",
              "variable_name": "lunes",
              "summary": "{\n  \"name\": \"lunes\",\n  \"rows\": 24,\n  \"fields\": [\n    {\n      \"column\": \"Hora\",\n      \"properties\": {\n        \"dtype\": \"object\",\n        \"num_unique_values\": 24,\n        \"samples\": [\n          \"08:00\",\n          \"16:00\",\n          \"00:00\"\n        ],\n        \"semantic_type\": \"\",\n        \"description\": \"\"\n      }\n    },\n    {\n      \"column\": \"Temperatura (\\u00b0C)\",\n      \"properties\": {\n        \"dtype\": \"number\",\n        \"std\": 2.41462557483902,\n        \"min\": 7.8,\n        \"max\": 14.8,\n        \"num_unique_values\": 15,\n        \"samples\": [\n          11.5,\n          13.5,\n          10.5\n        ],\n        \"semantic_type\": \"\",\n        \"description\": \"\"\n      }\n    },\n    {\n      \"column\": \"Humedad (%)\",\n      \"properties\": {\n        \"dtype\": \"number\",\n        \"std\": 7,\n        \"min\": 55,\n        \"max\": 78,\n        \"num_unique_values\": 15,\n        \"samples\": [\n          66,\n          60,\n          65\n        ],\n        \"semantic_type\": \"\",\n        \"description\": \"\"\n      }\n    },\n    {\n      \"column\": \"Presi\\u00f3n (hPa)\",\n      \"properties\": {\n        \"dtype\": \"number\",\n        \"std\": 0.6557300390084068,\n        \"min\": 1011.9,\n        \"max\": 1013.9,\n        \"num_unique_values\": 15,\n        \"samples\": [\n          1013.0,\n          1013.5,\n          1013.2\n        ],\n        \"semantic_type\": \"\",\n        \"description\": \"\"\n      }\n    }\n  ]\n}"
            }
          },
          "metadata": {},
          "execution_count": 7
        }
      ]
    },
    {
      "cell_type": "code",
      "source": [
        "lunes[\"Temperatura (°C)\"].plot()"
      ],
      "metadata": {
        "colab": {
          "base_uri": "https://localhost:8080/",
          "height": 447
        },
        "id": "Of-Ywi8phnXV",
        "outputId": "5c56b5ed-061a-463b-a2a6-53892fb163bd"
      },
      "execution_count": null,
      "outputs": [
        {
          "output_type": "execute_result",
          "data": {
            "text/plain": [
              "<Axes: >"
            ]
          },
          "metadata": {},
          "execution_count": 8
        },
        {
          "output_type": "display_data",
          "data": {
            "text/plain": [
              "<Figure size 640x480 with 1 Axes>"
            ],
            "image/png": "[encoded data removed]"
          },
          "metadata": {}
        }
      ]
    },
    {
      "cell_type": "markdown",
      "source": [
        "Concatenamos las tablas del excel."
      ],
      "metadata": {
        "id": "EkS7iwTMFsf2"
      }
    },
    {
      "cell_type": "code",
      "execution_count": 16,
      "metadata": {
        "id": "9jldW3RysxDs"
      },
      "outputs": [],
      "source": [
        "# Concatenate the tables vertically\n",
        "df = pd.concat([lunes,martes,miercoles])"
      ]
    },
    {
      "cell_type": "markdown",
      "metadata": {
        "id": "MCcyY66MrvB8"
      },
      "source": [
        "Posteriormente aparece un csv llamado Vientos.csv de datos de velocidad y dirección del viento pero, en este caso, los datos son cada 15 minutos. Busca una estrategia para unir los datos horizontalmente."
      ]
    },
    {
      "cell_type": "code",
      "source": [],
      "metadata": {
        "id": "5FMl80XESELf"
      },
      "execution_count": null,
      "outputs": []
    },
    {
      "cell_type": "code",
      "metadata": {
        "colab": {
          "base_uri": "https://localhost:8080/"
        },
        "id": "XDNToiOBsH35",
        "outputId": "b221198e-05df-49f0-e56b-867c0e8a394a"
      },
      "source": [
        "import pandas as pd\n",
        "\n",
        "# Primero, cargamos el archivo Vientos.csv\n",
        "vientos_df = pd.read_csv('/content/sample_data/Vientos.csv', decimal=',')\n",
        "\n",
        "# Combine 'Día' and 'Hora' to create a datetime index for the wind data\n",
        "# Assuming the 'Día' column in Vientos.csv corresponds to the same days as the excel data (1 for Lunes, 2 for Martes, 3 for Miércoles)\n",
        "# We also need to ensure the date format is correct.\n",
        "# Assuming Day 1 in Vientos.csv is the same date as Lunes (2023-01-01), Day 2 is Martes (2023-01-02), etc.\n",
        "vientos_df['Fecha y Hora'] = pd.to_datetime('2023-01-' + vientos_df['Día'].astype(str) + ' ' + vientos_df['Hora'].astype(str))\n",
        "\n",
        "# Set the datetime index\n",
        "vientos_df = vientos_df.set_index('Fecha y Hora')\n",
        "\n",
        "# Drop the original 'Día' and 'Hora' columns\n",
        "vientos_df = vientos_df.drop(['Día', 'Hora'], axis=1)\n",
        "\n",
        "# Now, remuestreamos los datos de viento a una frecuencia horaria.\n",
        "# Por ejemplo, tomando el promedio de los valores de viento dentro de cada hora.\n",
        "# Puedes elegir otra función de agregación (sum(), first(), last(), min(), max())\n",
        "# según lo que tenga sentido para tus datos y análisis.\n",
        "vientos_horario = vientos_df.resample('H').mean()\n",
        "\n",
        "# Ahora que ambos DataFrames tienen la misma frecuencia (horaria) y un índice de tiempo,\n",
        "# podemos unirlos horizontalmente utilizando el índice.\n",
        "# Usamos pd.merge con los índices. También podrías usar df.join(vientos_horario).\n",
        "\n",
        "# Usando merge:\n",
        "# merge(left, right, left_index=True, right_index=True, how='left')\n",
        "# We use 'left' to keep all rows from the original dataframe 'df' and add the resampled wind data.\n",
        "df_unido_horizontalmente = pd.merge(df, vientos_horario, left_index=True, right_index=True, how='left')\n",
        "\n",
        "# Muestra las primeras filas del DataFrame unido para verificar\n",
        "print(\"DataFrame unido horizontalmente (remuestreo de vientos a horario):\")\n",
        "print(df_unido_horizontalmente.head())"
      ],
      "execution_count": 21,
      "outputs": [
        {
          "output_type": "stream",
          "name": "stdout",
          "text": [
            "DataFrame unido horizontalmente (remuestreo de vientos a horario):\n",
            "                     Temperatura (°C)  Humedad (%)  Presión (hPa)  \\\n",
            "Fecha y Hora                                                        \n",
            "2023-01-01 00:00:00              10.5           65         1013.2   \n",
            "2023-01-01 01:00:00               9.8           68         1012.8   \n",
            "2023-01-01 02:00:00               9.2           70         1012.5   \n",
            "2023-01-01 03:00:00               8.7           72         1012.3   \n",
            "2023-01-01 04:00:00               8.3           74         1012.1   \n",
            "\n",
            "                     Velocidad del viento  Dirección del viento  \n",
            "Fecha y Hora                                                     \n",
            "2023-01-01 00:00:00                 0.000                 234.0  \n",
            "2023-01-01 01:00:00                 0.000                 234.0  \n",
            "2023-01-01 02:00:00                 0.000                 234.0  \n",
            "2023-01-01 03:00:00                 0.125                 244.5  \n",
            "2023-01-01 04:00:00                 3.000                 272.0  \n"
          ]
        },
        {
          "output_type": "stream",
          "name": "stderr",
          "text": [
            "/tmp/ipython-input-21-388450157.py:22: FutureWarning: 'H' is deprecated and will be removed in a future version, please use 'h' instead.\n",
            "  vientos_horario = vientos_df.resample('H').mean()\n"
          ]
        }
      ]
    }
  ],
  "metadata": {
    "colab": {
      "provenance": [],
      "include_colab_link": true
    },
    "kernelspec": {
      "display_name": "Python 3 (ipykernel)",
      "language": "python",
      "name": "python3"
    },
    "language_info": {
      "codemirror_mode": {
        "name": "ipython",
        "version": 3
      },
      "file_extension": ".py",
      "mimetype": "text/x-python",
      "name": "python",
      "nbconvert_exporter": "python",
      "pygments_lexer": "ipython3",
      "version": "3.12.3"
    }
  },
  "nbformat": 4,
  "nbformat_minor": 0
}